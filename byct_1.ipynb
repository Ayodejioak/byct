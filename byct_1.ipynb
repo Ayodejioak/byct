{
 "cells": [
  {
   "cell_type": "code",
   "execution_count": 1,
   "id": "5106eb24-916f-43b3-95d2-b5ad1a371f5f",
   "metadata": {},
   "outputs": [
    {
     "name": "stdout",
     "output_type": "stream",
     "text": [
      "[[ 1.  0.  0.  0.]\n",
      " [ 0.  1. 10.  0.]\n",
      " [ 0.  0.  1.  0.]\n",
      " [ 0.  0.  0.  1.]]\n"
     ]
    }
   ],
   "source": [
    "import numpy as np\n",
    "\n",
    "def create_custom_identity(size, value, index):\n",
    "    # Create an identity matrix of the given size\n",
    "    identity_matrix = np.eye(size)\n",
    "    \n",
    "    # Insert the specified value at the given index\n",
    "    identity_matrix[index] = value\n",
    "    \n",
    "    return identity_matrix\n",
    "\n",
    "# Example usage:\n",
    "# Create a 4x4 identity matrix with 10 at index (1, 2)\n",
    "custom_identity = create_custom_identity(4, 10, (1, 2))\n",
    "print(custom_identity)"
   ]
  },
  {
   "cell_type": "code",
   "execution_count": null,
   "id": "01e4de25-c9e5-4a3c-be30-32ce13983a87",
   "metadata": {},
   "outputs": [],
   "source": []
  }
 ],
 "metadata": {
  "kernelspec": {
   "display_name": "Python 3 (ipykernel)",
   "language": "python",
   "name": "python3"
  },
  "language_info": {
   "codemirror_mode": {
    "name": "ipython",
    "version": 3
   },
   "file_extension": ".py",
   "mimetype": "text/x-python",
   "name": "python",
   "nbconvert_exporter": "python",
   "pygments_lexer": "ipython3",
   "version": "3.11.7"
  }
 },
 "nbformat": 4,
 "nbformat_minor": 5
}
